{
  "nbformat": 4,
  "nbformat_minor": 0,
  "metadata": {
    "colab": {
      "provenance": []
    },
    "kernelspec": {
      "name": "python3",
      "display_name": "Python 3"
    },
    "language_info": {
      "name": "python"
    }
  },
  "cells": [
    {
      "cell_type": "code",
      "source": [
        "import cv2\n",
        "\n",
        "def detect_watermark(image_path):\n",
        "    # Read the input image\n",
        "    img = cv2.imread(image_path, cv2.IMREAD_GRAYSCALE)\n",
        "\n",
        "    # Apply edge detection\n",
        "    edges = cv2.Canny(img, 50, 150)\n",
        "\n",
        "    # Find contours\n",
        "    contours, _ = cv2.findContours(edges, cv2.RETR_EXTERNAL, cv2.CHAIN_APPROX_SIMPLE)\n",
        "\n",
        "    # Set a threshold for contour area to filter out smaller regions\n",
        "    min_area_threshold = 1000\n",
        "\n",
        "    # Iterate through contours\n",
        "\n",
        "    for contour in contours:\n",
        "        area = cv2.contourArea(contour)\n",
        "        if area > min_area_threshold:\n",
        "            # Assuming anything above the threshold is a watermark\n",
        "            return True\n",
        "\n",
        "    return False\n",
        "\n",
        "# Example usage\n",
        "image_path = \"/content/image-3.jfif\"\n",
        "is_watermark = detect_watermark(image_path)\n",
        "print(\"Watermark Detected:\", is_watermark)"
      ],
      "metadata": {
        "colab": {
          "base_uri": "https://localhost:8080/"
        },
        "id": "P2Sr7zsuieH7",
        "outputId": "83acd432-997a-4151-bf2c-fc599524ab5e"
      },
      "execution_count": 5,
      "outputs": [
        {
          "output_type": "stream",
          "name": "stdout",
          "text": [
            "Watermark Detected: False\n"
          ]
        }
      ]
    },
    {
      "cell_type": "code",
      "source": [
        "import cv2\n",
        "\n",
        "def detect_watermark(image_path):\n",
        "    # Read the input image\n",
        "    img = cv2.imread(image_path, cv2.IMREAD_GRAYSCALE)\n",
        "\n",
        "    # Apply edge detection\n",
        "    edges = cv2.Canny(img, 50, 150)\n",
        "\n",
        "    # Find contours\n",
        "    contours, _ = cv2.findContours(edges, cv2.RETR_EXTERNAL, cv2.CHAIN_APPROX_SIMPLE)\n",
        "\n",
        "    # Set a threshold for contour area to filter out smaller regions\n",
        "    min_area_threshold = 1000\n",
        "\n",
        "    # Iterate through contours\n",
        "\n",
        "    for contour in contours:\n",
        "        area = cv2.contourArea(contour)\n",
        "        if area > min_area_threshold:\n",
        "            # Assuming anything above the threshold is a watermark\n",
        "            return True\n",
        "\n",
        "    return False\n",
        "\n",
        "# Example usage\n",
        "image_path = \"/content/image-2.jfif\"\n",
        "is_watermark = detect_watermark(image_path)\n",
        "print(\"Watermark Detected:\", is_watermark)"
      ],
      "metadata": {
        "id": "_Xa9tFSIkVKq",
        "colab": {
          "base_uri": "https://localhost:8080/"
        },
        "outputId": "9a2202b6-26f8-4be4-8b0e-5eb928010de1"
      },
      "execution_count": 6,
      "outputs": [
        {
          "output_type": "stream",
          "name": "stdout",
          "text": [
            "Watermark Detected: False\n"
          ]
        }
      ]
    },
    {
      "cell_type": "code",
      "source": [],
      "metadata": {
        "id": "HXDMxOfSGQVr"
      },
      "execution_count": null,
      "outputs": []
    }
  ]
}